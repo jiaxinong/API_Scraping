{
 "cells": [
  {
   "cell_type": "code",
   "execution_count": 10,
   "metadata": {},
   "outputs": [],
   "source": [
    "import requests\n",
    "import pandas as pd\n",
    "import time\n",
    "import os\n",
    "import schedule  \n",
    "os.chdir('c:\\\\Users\\\\user\\\\Pictures\\\\CarPark')"
   ]
  },
  {
   "cell_type": "code",
   "execution_count": 11,
   "metadata": {},
   "outputs": [],
   "source": [
    "headers = { \n",
    "    'AccountKey': 'xwGKi1iyTEml/bV+nLcC6g==',\n",
    "    'UniqueUserID': '8ee245d6-a53b-4an8-bdxe-18027af5e4c5',\n",
    "    'accept': 'application/json'\n",
    "}\n"
   ]
  },
  {
   "cell_type": "code",
   "execution_count": null,
   "metadata": {},
   "outputs": [],
   "source": []
  },
  {
   "cell_type": "code",
   "execution_count": 12,
   "metadata": {},
   "outputs": [],
   "source": [
    "def CarPark():\n",
    "    r = requests.get(\"http://datamall2.mytransport.sg/ltaodataservice/CarParkAvailabilityv2\", headers=headers)\n",
    "    data = r.json()['value']\n",
    "    CarParkID = []\n",
    "    Area = []\n",
    "    Development = []\n",
    "    Location = []\n",
    "    AvailableLots = []\n",
    "\n",
    "    for i in range(0,len(data)):\n",
    "        CarParkID.append(data[i]['CarParkID'])\n",
    "        Area.append(data[i]['Area'])\n",
    "        Development.append(data[i]['Development'])\n",
    "        Location.append(data[i]['Location'])\n",
    "        AvailableLots.append(data[i]['AvailableLots'])\n",
    "\n",
    "    coords = pd.DataFrame(zip(CarParkID, Area, Development, Location, AvailableLots), columns = ['CarParkID', 'Area', 'Development', 'Location', 'AvailableLots'])\n",
    "    timestr = time.strftime(\"%Y%m%d-%H%M%S\")\n",
    "    coords.to_csv(timestr+'.csv', encoding='utf-8', index=False)\n",
    "    r.close()"
   ]
  },
  {
   "cell_type": "code",
   "execution_count": 13,
   "metadata": {},
   "outputs": [
    {
     "ename": "KeyboardInterrupt",
     "evalue": "",
     "output_type": "error",
     "traceback": [
      "\u001b[1;31m---------------------------------------------------------------------------\u001b[0m",
      "\u001b[1;31mKeyboardInterrupt\u001b[0m                         Traceback (most recent call last)",
      "\u001b[1;32mc:\\Users\\user\\Desktop\\Carparkscrape.ipynb Cell 5\u001b[0m in \u001b[0;36m<cell line: 4>\u001b[1;34m()\u001b[0m\n\u001b[0;32m      <a href='vscode-notebook-cell:/c%3A/Users/user/Desktop/Carparkscrape.ipynb#W4sZmlsZQ%3D%3D?line=2'>3</a>\u001b[0m \u001b[39mwhile\u001b[39;00m \u001b[39mTrue\u001b[39;00m:\n\u001b[0;32m      <a href='vscode-notebook-cell:/c%3A/Users/user/Desktop/Carparkscrape.ipynb#W4sZmlsZQ%3D%3D?line=3'>4</a>\u001b[0m     schedule\u001b[39m.\u001b[39mrun_pending()\n\u001b[1;32m----> <a href='vscode-notebook-cell:/c%3A/Users/user/Desktop/Carparkscrape.ipynb#W4sZmlsZQ%3D%3D?line=4'>5</a>\u001b[0m     time\u001b[39m.\u001b[39;49msleep(\u001b[39m1\u001b[39;49m)\n",
      "\u001b[1;31mKeyboardInterrupt\u001b[0m: "
     ]
    }
   ],
   "source": [
    "\n",
    "schedule.every(30).minutes.do(CarPark)\n",
    "  \n",
    "while True:\n",
    "    schedule.run_pending()\n",
    "    time.sleep(1)"
   ]
  }
 ],
 "metadata": {
  "kernelspec": {
   "display_name": "Python 3.9.12 ('base')",
   "language": "python",
   "name": "python3"
  },
  "language_info": {
   "codemirror_mode": {
    "name": "ipython",
    "version": 3
   },
   "file_extension": ".py",
   "mimetype": "text/x-python",
   "name": "python",
   "nbconvert_exporter": "python",
   "pygments_lexer": "ipython3",
   "version": "3.9.12 (main, Apr  4 2022, 05:22:27) [MSC v.1916 64 bit (AMD64)]"
  },
  "orig_nbformat": 4,
  "vscode": {
   "interpreter": {
    "hash": "a077222d77dfe082b8f1dd562ad70e458ac2ab76993a0b248ab0476e32e9e8dd"
   }
  }
 },
 "nbformat": 4,
 "nbformat_minor": 2
}
